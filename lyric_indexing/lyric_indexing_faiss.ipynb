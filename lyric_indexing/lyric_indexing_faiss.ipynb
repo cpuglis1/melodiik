{
 "cells": [
  {
   "cell_type": "code",
   "execution_count": 1,
   "id": "b0a4c037",
   "metadata": {},
   "outputs": [
    {
     "name": "stderr",
     "output_type": "stream",
     "text": [
      "/Users/cep4u/mambaforge/envs/melodiik/lib/python3.10/site-packages/tqdm/auto.py:21: TqdmWarning: IProgress not found. Please update jupyter and ipywidgets. See https://ipywidgets.readthedocs.io/en/stable/user_install.html\n",
      "  from .autonotebook import tqdm as notebook_tqdm\n"
     ]
    }
   ],
   "source": [
    "import pandas as pd\n",
    "import pickle\n",
    "from sentence_transformers import SentenceTransformer"
   ]
  },
  {
   "cell_type": "code",
   "execution_count": 2,
   "id": "d2328dc2",
   "metadata": {},
   "outputs": [],
   "source": [
    "data_folder = '/Users/cep4u/JingEdward/tunen/data/lyric_rawdata'\n",
    "filename = 'cleaned_lyric_df.csv'\n",
    "file_path = f\"{data_folder}/{filename}\"\n",
    "\n",
    "df = pd.read_csv(file_path)"
   ]
  },
  {
   "cell_type": "code",
   "execution_count": 3,
   "id": "b1fe447d",
   "metadata": {},
   "outputs": [],
   "source": [
    "df['sentences'] = df['lemmatized_lyrics'].apply(lambda x: ' '.join(x))"
   ]
  },
  {
   "cell_type": "code",
   "execution_count": 5,
   "id": "15ea51ed",
   "metadata": {},
   "outputs": [
    {
     "name": "stderr",
     "output_type": "stream",
     "text": [
      "Batches: 100%|██████████████████████████████| 4671/4671 [38:10<00:00,  2.04it/s]\n"
     ]
    }
   ],
   "source": [
    "model = SentenceTransformer('distilbert-base-nli-mean-tokens')\n",
    "corpus_embeddings = model.encode(df['sentences'].tolist(), show_progress_bar=True)"
   ]
  },
  {
   "cell_type": "code",
   "execution_count": 6,
   "id": "c2da080c",
   "metadata": {},
   "outputs": [],
   "source": [
    "with open('lyric-embeddings.pkl', \"wb\") as fOut:\n",
    "    pickle.dump(corpus_embeddings, fOut)"
   ]
  },
  {
   "cell_type": "code",
   "execution_count": null,
   "id": "a828cb86",
   "metadata": {},
   "outputs": [],
   "source": []
  }
 ],
 "metadata": {
  "kernelspec": {
   "display_name": "melodiik",
   "language": "python",
   "name": "melodiik"
  },
  "language_info": {
   "codemirror_mode": {
    "name": "ipython",
    "version": 3
   },
   "file_extension": ".py",
   "mimetype": "text/x-python",
   "name": "python",
   "nbconvert_exporter": "python",
   "pygments_lexer": "ipython3",
   "version": "3.10.12"
  }
 },
 "nbformat": 4,
 "nbformat_minor": 5
}
