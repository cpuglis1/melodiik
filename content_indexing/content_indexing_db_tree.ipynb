{
 "cells": [
  {
   "cell_type": "code",
   "execution_count": 121,
   "id": "b08e4d98",
   "metadata": {},
   "outputs": [],
   "source": [
    "import pandas as pd\n",
    "import numpy as np\n",
    "from sklearn.neighbors import NearestNeighbors"
   ]
  },
  {
   "cell_type": "code",
   "execution_count": 122,
   "id": "13eb6e40",
   "metadata": {},
   "outputs": [
    {
     "name": "stderr",
     "output_type": "stream",
     "text": [
      "/var/folders/02/1x2mrbmn3kz5lz54txkdr_wm0000gn/T/ipykernel_60963/1069100813.py:5: DtypeWarning: Columns (2,3,5,8,23,26) have mixed types. Specify dtype option on import or set low_memory=False.\n",
      "  df = pd.read_csv(file_path)\n"
     ]
    }
   ],
   "source": [
    "data_folder = '/Users/cep4u/JingEdward/tunen/data/content_rawdata'\n",
    "filename = 'spotify_audio_content_db_2M.csv'\n",
    "file_path = f\"{data_folder}/{filename}\"\n",
    "\n",
    "df = pd.read_csv(file_path)"
   ]
  },
  {
   "cell_type": "code",
   "execution_count": 123,
   "id": "c193d82b",
   "metadata": {},
   "outputs": [],
   "source": [
    "one_hot = pd.get_dummies(df['genre'], prefix='genre').astype(int)\n",
    "\n",
    "df = pd.concat([df, one_hot], axis=1)"
   ]
  },
  {
   "cell_type": "code",
   "execution_count": 124,
   "id": "c5e0e308",
   "metadata": {},
   "outputs": [],
   "source": [
    "one_hot = pd.get_dummies(df['mode'], prefix='mode').astype(int)\n",
    "\n",
    "df = pd.concat([df, one_hot], axis=1)"
   ]
  },
  {
   "cell_type": "code",
   "execution_count": 125,
   "id": "879c5061",
   "metadata": {},
   "outputs": [],
   "source": [
    "df['loudness_scaled'] = (df['loudness'] - df['loudness'].mean()) / df['loudness'].std()"
   ]
  },
  {
   "cell_type": "code",
   "execution_count": 126,
   "id": "2b33bd11",
   "metadata": {},
   "outputs": [],
   "source": [
    "df['scaled_tempo'] = (df['tempo'] - df['tempo'].min()) / (df['tempo'].max() - df['tempo'].min())"
   ]
  },
  {
   "cell_type": "code",
   "execution_count": 127,
   "id": "86a3feb4",
   "metadata": {},
   "outputs": [],
   "source": [
    "from sklearn.feature_extraction.text import TfidfVectorizer"
   ]
  },
  {
   "cell_type": "code",
   "execution_count": 128,
   "id": "d50f7694",
   "metadata": {},
   "outputs": [],
   "source": [
    "df.dropna(subset=['artist_name', 'track_name'], inplace=True)"
   ]
  },
  {
   "cell_type": "code",
   "execution_count": 129,
   "id": "1c1c3df9",
   "metadata": {},
   "outputs": [],
   "source": [
    "df['combined'] = df['artist_name'] + \" \" + df['track_name']\n",
    "\n",
    "# TF-IDF Vectorization\n",
    "vectorizer = TfidfVectorizer().fit(df['combined'])\n",
    "vectors = vectorizer.transform(df['combined'])\n",
    "\n",
    "# Train Nearest Neighbors\n",
    "nn = NearestNeighbors(n_neighbors=1, metric='cosine').fit(vectors)"
   ]
  },
  {
   "cell_type": "code",
   "execution_count": 130,
   "id": "d2137179",
   "metadata": {},
   "outputs": [],
   "source": [
    "filename = 'knn_vectorizer.pkl'\n",
    "with open(filename, 'wb') as file:\n",
    "    pickle.dump(vectorizer, file)"
   ]
  },
  {
   "cell_type": "code",
   "execution_count": 131,
   "id": "c9827089",
   "metadata": {},
   "outputs": [],
   "source": [
    "filename = 'knn_query_model.pkl'\n",
    "with open(filename, 'wb') as file:\n",
    "    pickle.dump(nn, file)"
   ]
  },
  {
   "cell_type": "code",
   "execution_count": 132,
   "id": "9ceade50",
   "metadata": {},
   "outputs": [],
   "source": [
    "data_folder = '/Users/cep4u/JingEdward/tunen/data/content_rawdata'\n",
    "filename = 'spotify_audio_content_db_2M_standardized.csv'\n",
    "file_path = f\"{data_folder}/{filename}\"\n",
    "\n",
    "df.to_csv(file_path)"
   ]
  },
  {
   "cell_type": "code",
   "execution_count": 133,
   "id": "267a80f1",
   "metadata": {},
   "outputs": [],
   "source": [
    "columns_ = ['danceability','energy', \n",
    "            'speechiness', 'acousticness', 'instrumentalness',\n",
    "            'liveness', 'valence', 'loudness_scaled', 'scaled_tempo', 'genre_acoustic',\n",
    " 'genre_afrobeat',\n",
    " 'genre_alt-rock',\n",
    " 'genre_ambient',\n",
    " 'genre_black-metal',\n",
    " 'genre_blues',\n",
    " 'genre_breakbeat',\n",
    " 'genre_cantopop',\n",
    " 'genre_chicago-house',\n",
    " 'genre_chill',\n",
    " 'genre_classical',\n",
    " 'genre_club',\n",
    " 'genre_comedy',\n",
    " 'genre_country',\n",
    " 'genre_dance',\n",
    " 'genre_dancehall',\n",
    " 'genre_death-metal',\n",
    " 'genre_deep-house',\n",
    " 'genre_detroit-techno',\n",
    " 'genre_disco',\n",
    " 'genre_drum-and-bass',\n",
    " 'genre_dub',\n",
    " 'genre_dubstep',\n",
    " 'genre_edm',\n",
    " 'genre_electro',\n",
    " 'genre_electronic',\n",
    " 'genre_emo',\n",
    " 'genre_folk',\n",
    " 'genre_forro',\n",
    " 'genre_french',\n",
    " 'genre_funk',\n",
    " 'genre_garage',\n",
    " 'genre_german',\n",
    " 'genre_gospel',\n",
    " 'genre_goth',\n",
    " 'genre_grindcore',\n",
    " 'genre_groove',\n",
    " 'genre_guitar',\n",
    " 'genre_hard-rock',\n",
    " 'genre_hardcore',\n",
    " 'genre_hardstyle',\n",
    " 'genre_heavy-metal',\n",
    " 'genre_hip-hop',\n",
    " 'genre_house',\n",
    " 'genre_indian',\n",
    " 'genre_indie-pop',\n",
    " 'genre_industrial',\n",
    " 'genre_jazz',\n",
    " 'genre_k-pop',\n",
    " 'genre_metal',\n",
    " 'genre_metalcore',\n",
    " 'genre_minimal-techno',\n",
    " 'genre_new-age',\n",
    " 'genre_opera',\n",
    " 'genre_party',\n",
    " 'genre_piano',\n",
    " 'genre_pop',\n",
    " 'genre_pop-film',\n",
    " 'genre_power-pop',\n",
    " 'genre_progressive-house',\n",
    " 'genre_psych-rock',\n",
    " 'genre_punk',\n",
    " 'genre_punk-rock',\n",
    " 'genre_rock',\n",
    " 'genre_rock-n-roll',\n",
    " 'genre_romance',\n",
    " 'genre_sad',\n",
    " 'genre_salsa',\n",
    " 'genre_samba',\n",
    " 'genre_sertanejo',\n",
    " 'genre_show-tunes',\n",
    " 'genre_singer-songwriter',\n",
    " 'genre_ska',\n",
    " 'genre_sleep',\n",
    " 'genre_songwriter',\n",
    " 'genre_soul',\n",
    " 'genre_spanish',\n",
    " 'genre_swedish',\n",
    " 'genre_tango',\n",
    " 'genre_techno',\n",
    " 'genre_trance',\n",
    " 'genre_trip-hop'\n",
    "           ]"
   ]
  },
  {
   "cell_type": "code",
   "execution_count": 134,
   "id": "d1fa93d8",
   "metadata": {},
   "outputs": [],
   "source": [
    "data = df[columns_]"
   ]
  },
  {
   "cell_type": "code",
   "execution_count": 135,
   "id": "aaa67507",
   "metadata": {},
   "outputs": [
    {
     "data": {
      "text/html": [
       "<style>#sk-container-id-2 {color: black;}#sk-container-id-2 pre{padding: 0;}#sk-container-id-2 div.sk-toggleable {background-color: white;}#sk-container-id-2 label.sk-toggleable__label {cursor: pointer;display: block;width: 100%;margin-bottom: 0;padding: 0.3em;box-sizing: border-box;text-align: center;}#sk-container-id-2 label.sk-toggleable__label-arrow:before {content: \"▸\";float: left;margin-right: 0.25em;color: #696969;}#sk-container-id-2 label.sk-toggleable__label-arrow:hover:before {color: black;}#sk-container-id-2 div.sk-estimator:hover label.sk-toggleable__label-arrow:before {color: black;}#sk-container-id-2 div.sk-toggleable__content {max-height: 0;max-width: 0;overflow: hidden;text-align: left;background-color: #f0f8ff;}#sk-container-id-2 div.sk-toggleable__content pre {margin: 0.2em;color: black;border-radius: 0.25em;background-color: #f0f8ff;}#sk-container-id-2 input.sk-toggleable__control:checked~div.sk-toggleable__content {max-height: 200px;max-width: 100%;overflow: auto;}#sk-container-id-2 input.sk-toggleable__control:checked~label.sk-toggleable__label-arrow:before {content: \"▾\";}#sk-container-id-2 div.sk-estimator input.sk-toggleable__control:checked~label.sk-toggleable__label {background-color: #d4ebff;}#sk-container-id-2 div.sk-label input.sk-toggleable__control:checked~label.sk-toggleable__label {background-color: #d4ebff;}#sk-container-id-2 input.sk-hidden--visually {border: 0;clip: rect(1px 1px 1px 1px);clip: rect(1px, 1px, 1px, 1px);height: 1px;margin: -1px;overflow: hidden;padding: 0;position: absolute;width: 1px;}#sk-container-id-2 div.sk-estimator {font-family: monospace;background-color: #f0f8ff;border: 1px dotted black;border-radius: 0.25em;box-sizing: border-box;margin-bottom: 0.5em;}#sk-container-id-2 div.sk-estimator:hover {background-color: #d4ebff;}#sk-container-id-2 div.sk-parallel-item::after {content: \"\";width: 100%;border-bottom: 1px solid gray;flex-grow: 1;}#sk-container-id-2 div.sk-label:hover label.sk-toggleable__label {background-color: #d4ebff;}#sk-container-id-2 div.sk-serial::before {content: \"\";position: absolute;border-left: 1px solid gray;box-sizing: border-box;top: 0;bottom: 0;left: 50%;z-index: 0;}#sk-container-id-2 div.sk-serial {display: flex;flex-direction: column;align-items: center;background-color: white;padding-right: 0.2em;padding-left: 0.2em;position: relative;}#sk-container-id-2 div.sk-item {position: relative;z-index: 1;}#sk-container-id-2 div.sk-parallel {display: flex;align-items: stretch;justify-content: center;background-color: white;position: relative;}#sk-container-id-2 div.sk-item::before, #sk-container-id-2 div.sk-parallel-item::before {content: \"\";position: absolute;border-left: 1px solid gray;box-sizing: border-box;top: 0;bottom: 0;left: 50%;z-index: -1;}#sk-container-id-2 div.sk-parallel-item {display: flex;flex-direction: column;z-index: 1;position: relative;background-color: white;}#sk-container-id-2 div.sk-parallel-item:first-child::after {align-self: flex-end;width: 50%;}#sk-container-id-2 div.sk-parallel-item:last-child::after {align-self: flex-start;width: 50%;}#sk-container-id-2 div.sk-parallel-item:only-child::after {width: 0;}#sk-container-id-2 div.sk-dashed-wrapped {border: 1px dashed gray;margin: 0 0.4em 0.5em 0.4em;box-sizing: border-box;padding-bottom: 0.4em;background-color: white;}#sk-container-id-2 div.sk-label label {font-family: monospace;font-weight: bold;display: inline-block;line-height: 1.2em;}#sk-container-id-2 div.sk-label-container {text-align: center;}#sk-container-id-2 div.sk-container {/* jupyter's `normalize.less` sets `[hidden] { display: none; }` but bootstrap.min.css set `[hidden] { display: none !important; }` so we also need the `!important` here to be able to override the default hidden behavior on the sphinx rendered scikit-learn.org. See: https://github.com/scikit-learn/scikit-learn/issues/21755 */display: inline-block !important;position: relative;}#sk-container-id-2 div.sk-text-repr-fallback {display: none;}</style><div id=\"sk-container-id-2\" class=\"sk-top-container\"><div class=\"sk-text-repr-fallback\"><pre>NearestNeighbors(algorithm=&#x27;kd_tree&#x27;, n_neighbors=200)</pre><b>In a Jupyter environment, please rerun this cell to show the HTML representation or trust the notebook. <br />On GitHub, the HTML representation is unable to render, please try loading this page with nbviewer.org.</b></div><div class=\"sk-container\" hidden><div class=\"sk-item\"><div class=\"sk-estimator sk-toggleable\"><input class=\"sk-toggleable__control sk-hidden--visually\" id=\"sk-estimator-id-2\" type=\"checkbox\" checked><label for=\"sk-estimator-id-2\" class=\"sk-toggleable__label sk-toggleable__label-arrow\">NearestNeighbors</label><div class=\"sk-toggleable__content\"><pre>NearestNeighbors(algorithm=&#x27;kd_tree&#x27;, n_neighbors=200)</pre></div></div></div></div></div>"
      ],
      "text/plain": [
       "NearestNeighbors(algorithm='kd_tree', n_neighbors=200)"
      ]
     },
     "execution_count": 135,
     "metadata": {},
     "output_type": "execute_result"
    }
   ],
   "source": [
    "knn_model = NearestNeighbors(algorithm='kd_tree', n_neighbors=200)\n",
    "knn_model.fit(data)"
   ]
  },
  {
   "cell_type": "code",
   "execution_count": 136,
   "id": "90382e5a",
   "metadata": {},
   "outputs": [],
   "source": [
    "import pickle\n",
    "\n",
    "filename = 'knn_200_model.pkl'\n",
    "with open(filename, 'wb') as file:\n",
    "    pickle.dump(knn_model, file)"
   ]
  },
  {
   "cell_type": "code",
   "execution_count": null,
   "id": "dd7322d2",
   "metadata": {},
   "outputs": [],
   "source": [
    "df[df['artist_name'] == 'Djo'].head(20)"
   ]
  },
  {
   "cell_type": "code",
   "execution_count": 76,
   "id": "b4548a03",
   "metadata": {},
   "outputs": [
    {
     "name": "stderr",
     "output_type": "stream",
     "text": [
      "/Users/cep4u/mambaforge/envs/melodiik/lib/python3.10/site-packages/sklearn/base.py:464: UserWarning: X does not have valid feature names, but NearestNeighbors was fitted with feature names\n",
      "  warnings.warn(\n"
     ]
    }
   ],
   "source": [
    "query_point = data.iloc[1517578].values.reshape(1, -1)\n",
    "distances, indices = knn_model.kneighbors(query_point)"
   ]
  },
  {
   "cell_type": "code",
   "execution_count": null,
   "id": "99433f40",
   "metadata": {},
   "outputs": [],
   "source": [
    "for i in indices[0].tolist():\n",
    "    print(df['popularity'].iloc[i])\n",
    "    if df['popularity'].iloc[i] < 90.0:\n",
    "        \n",
    "        print(i)\n",
    "        print(df['artist_name'].iloc[i])\n",
    "        print(df['track_name'].iloc[i])\n",
    "        print()"
   ]
  },
  {
   "cell_type": "code",
   "execution_count": null,
   "id": "15ac3e6a",
   "metadata": {},
   "outputs": [],
   "source": [
    "artist = df[df['artist_name'] == 'White Denim']\n",
    "artist[['popularity']]"
   ]
  },
  {
   "cell_type": "code",
   "execution_count": null,
   "id": "b39eb38b",
   "metadata": {},
   "outputs": [],
   "source": [
    "# pseudocode\n",
    "\n",
    "# Load trained model\n",
    "# Type in song and find closest match\n",
    "# Get songs nearest neighbors IDs\n",
    "# Lookup IDs in DF, return songs with same (or similar) genre\n",
    "# Filter songs by popularity, no popular artists\n",
    "    # Introduce method to mark artist as popular?\n",
    "# Remove duplicate artists\n",
    "# Return top 20 songs as playlist"
   ]
  },
  {
   "cell_type": "code",
   "execution_count": null,
   "id": "ee3cb945",
   "metadata": {},
   "outputs": [],
   "source": [
    "## Structure"
   ]
  },
  {
   "cell_type": "code",
   "execution_count": 137,
   "id": "0b6b9e33",
   "metadata": {},
   "outputs": [],
   "source": [
    "class LoadModel:\n",
    "    def __init__(self, model_path):\n",
    "        self.model_path = model_path\n",
    "        self.model = self.load_model()\n",
    "\n",
    "    def load_model(self):\n",
    "        with open(self.model_path, 'rb') as file:\n",
    "            model = pickle.load(file)\n",
    "        return model"
   ]
  },
  {
   "cell_type": "code",
   "execution_count": 138,
   "id": "3fa70ef3",
   "metadata": {},
   "outputs": [],
   "source": [
    "loader = LoadModel('knn_200_model.pkl')\n",
    "knn_200_model = loader.model"
   ]
  },
  {
   "cell_type": "code",
   "execution_count": 139,
   "id": "f444507f",
   "metadata": {},
   "outputs": [],
   "source": [
    "loader = LoadModel('knn_query_model.pkl')\n",
    "knn_query_model = loader.model"
   ]
  },
  {
   "cell_type": "code",
   "execution_count": 140,
   "id": "c8e9937c",
   "metadata": {},
   "outputs": [],
   "source": [
    "loader = LoadModel('knn_vectorizer.pkl')\n",
    "knn_vectorizer = loader.model"
   ]
  },
  {
   "cell_type": "code",
   "execution_count": 141,
   "id": "4e53b545",
   "metadata": {},
   "outputs": [],
   "source": [
    "from fuzzywuzzy import fuzz, process\n",
    "\n",
    "class RetrieveSongs:\n",
    "    def __init__(self, data_df, x_data, knn_200_model, knn_query_model, knn_vectorizer):\n",
    "        self.data_df = data_df\n",
    "        self.knn_200_model = knn_200_model\n",
    "        self.knn_query_model = knn_query_model\n",
    "        self.knn_vectorizer = knn_vectorizer\n",
    "        self.x_data = x_data\n",
    "\n",
    "    def search_song(self, query):\n",
    "        query_vector = self.knn_vectorizer.transform([query])\n",
    "        distance, index = self.knn_query_model.kneighbors(query_vector)\n",
    "        return self.data_df.iloc[index[0]]\n",
    "\n",
    "    def get_nearest_neighbors_ids(self, song_id):\n",
    "        query_point = self.x_data.iloc[song_id].values.reshape(1, -1)\n",
    "        distances, indices = self.knn_200_model.kneighbors(query_point)\n",
    "        return indices"
   ]
  },
  {
   "cell_type": "code",
   "execution_count": 142,
   "id": "27e254ab",
   "metadata": {},
   "outputs": [
    {
     "name": "stderr",
     "output_type": "stream",
     "text": [
      "/Users/cep4u/mambaforge/envs/melodiik/lib/python3.10/site-packages/sklearn/base.py:464: UserWarning: X does not have valid feature names, but NearestNeighbors was fitted with feature names\n",
      "  warnings.warn(\n"
     ]
    }
   ],
   "source": [
    "retriever = RetrieveSongs(df, data, knn_200_model, knn_query_model, knn_vectorizer)\n",
    "song = retriever.search_song(\"Chateau DJO\")\n",
    "song_id = song.index.tolist()[0]\n",
    "query_point = data.iloc[song_id].values.reshape(1, -1)\n",
    "nn_200_indices = retriever.get_nearest_neighbors_ids(song_id)"
   ]
  },
  {
   "cell_type": "code",
   "execution_count": 148,
   "id": "96465fd3",
   "metadata": {},
   "outputs": [
    {
     "data": {
      "text/html": [
       "<div>\n",
       "<style scoped>\n",
       "    .dataframe tbody tr th:only-of-type {\n",
       "        vertical-align: middle;\n",
       "    }\n",
       "\n",
       "    .dataframe tbody tr th {\n",
       "        vertical-align: top;\n",
       "    }\n",
       "\n",
       "    .dataframe thead th {\n",
       "        text-align: right;\n",
       "    }\n",
       "</style>\n",
       "<table border=\"1\" class=\"dataframe\">\n",
       "  <thead>\n",
       "    <tr style=\"text-align: right;\">\n",
       "      <th></th>\n",
       "      <th>track_id</th>\n",
       "      <th>track_name</th>\n",
       "      <th>album</th>\n",
       "      <th>album_id</th>\n",
       "      <th>artist_name</th>\n",
       "      <th>artist_ids</th>\n",
       "      <th>track_number</th>\n",
       "      <th>disc_number</th>\n",
       "      <th>explicit</th>\n",
       "      <th>danceability</th>\n",
       "      <th>...</th>\n",
       "      <th>genre_swedish</th>\n",
       "      <th>genre_tango</th>\n",
       "      <th>genre_techno</th>\n",
       "      <th>genre_trance</th>\n",
       "      <th>genre_trip-hop</th>\n",
       "      <th>mode_0</th>\n",
       "      <th>mode_1</th>\n",
       "      <th>loudness_scaled</th>\n",
       "      <th>scaled_tempo</th>\n",
       "      <th>combined</th>\n",
       "    </tr>\n",
       "  </thead>\n",
       "  <tbody>\n",
       "    <tr>\n",
       "      <th>1517578</th>\n",
       "      <td>3vjs2MDHoF9xhylNg6Y9un</td>\n",
       "      <td>Chateau (Feel Alright)</td>\n",
       "      <td>NaN</td>\n",
       "      <td>NaN</td>\n",
       "      <td>Djo</td>\n",
       "      <td>NaN</td>\n",
       "      <td>NaN</td>\n",
       "      <td>NaN</td>\n",
       "      <td>NaN</td>\n",
       "      <td>0.641</td>\n",
       "      <td>...</td>\n",
       "      <td>0</td>\n",
       "      <td>0</td>\n",
       "      <td>0</td>\n",
       "      <td>0</td>\n",
       "      <td>0</td>\n",
       "      <td>0</td>\n",
       "      <td>1</td>\n",
       "      <td>-0.195453</td>\n",
       "      <td>0.539511</td>\n",
       "      <td>Djo Chateau (Feel Alright)</td>\n",
       "    </tr>\n",
       "    <tr>\n",
       "      <th>1946642</th>\n",
       "      <td>2ctc9nwRgXeeIFaFWTRrRl</td>\n",
       "      <td>No Te Pido Flores</td>\n",
       "      <td>NaN</td>\n",
       "      <td>NaN</td>\n",
       "      <td>Fanny Lu</td>\n",
       "      <td>NaN</td>\n",
       "      <td>NaN</td>\n",
       "      <td>NaN</td>\n",
       "      <td>NaN</td>\n",
       "      <td>0.728</td>\n",
       "      <td>...</td>\n",
       "      <td>0</td>\n",
       "      <td>0</td>\n",
       "      <td>0</td>\n",
       "      <td>0</td>\n",
       "      <td>0</td>\n",
       "      <td>0</td>\n",
       "      <td>1</td>\n",
       "      <td>0.752046</td>\n",
       "      <td>0.415892</td>\n",
       "      <td>Fanny Lu No Te Pido Flores</td>\n",
       "    </tr>\n",
       "    <tr>\n",
       "      <th>2029484</th>\n",
       "      <td>02Fzn9E9et1LADcuSeSwxR</td>\n",
       "      <td>Ya Se Que Te Acordaras...(De Mi)</td>\n",
       "      <td>NaN</td>\n",
       "      <td>NaN</td>\n",
       "      <td>Los Brios</td>\n",
       "      <td>NaN</td>\n",
       "      <td>NaN</td>\n",
       "      <td>NaN</td>\n",
       "      <td>NaN</td>\n",
       "      <td>0.654</td>\n",
       "      <td>...</td>\n",
       "      <td>0</td>\n",
       "      <td>0</td>\n",
       "      <td>0</td>\n",
       "      <td>0</td>\n",
       "      <td>0</td>\n",
       "      <td>0</td>\n",
       "      <td>1</td>\n",
       "      <td>0.328873</td>\n",
       "      <td>0.391559</td>\n",
       "      <td>Los Brios Ya Se Que Te Acordaras...(De Mi)</td>\n",
       "    </tr>\n",
       "    <tr>\n",
       "      <th>2029415</th>\n",
       "      <td>4oL4ShpnvaF8dJrYgcsbPM</td>\n",
       "      <td>Fighting</td>\n",
       "      <td>NaN</td>\n",
       "      <td>NaN</td>\n",
       "      <td>Yellowcard</td>\n",
       "      <td>NaN</td>\n",
       "      <td>NaN</td>\n",
       "      <td>NaN</td>\n",
       "      <td>NaN</td>\n",
       "      <td>0.414</td>\n",
       "      <td>...</td>\n",
       "      <td>0</td>\n",
       "      <td>0</td>\n",
       "      <td>0</td>\n",
       "      <td>0</td>\n",
       "      <td>0</td>\n",
       "      <td>0</td>\n",
       "      <td>1</td>\n",
       "      <td>0.880884</td>\n",
       "      <td>0.719920</td>\n",
       "      <td>Yellowcard Fighting</td>\n",
       "    </tr>\n",
       "    <tr>\n",
       "      <th>2072769</th>\n",
       "      <td>3MldzywZOH4Uci6bq9noyJ</td>\n",
       "      <td>What You Got</td>\n",
       "      <td>NaN</td>\n",
       "      <td>NaN</td>\n",
       "      <td>Colby O'Donis</td>\n",
       "      <td>NaN</td>\n",
       "      <td>NaN</td>\n",
       "      <td>NaN</td>\n",
       "      <td>NaN</td>\n",
       "      <td>0.775</td>\n",
       "      <td>...</td>\n",
       "      <td>0</td>\n",
       "      <td>0</td>\n",
       "      <td>0</td>\n",
       "      <td>0</td>\n",
       "      <td>0</td>\n",
       "      <td>0</td>\n",
       "      <td>1</td>\n",
       "      <td>0.572251</td>\n",
       "      <td>0.479909</td>\n",
       "      <td>Colby O'Donis What You Got</td>\n",
       "    </tr>\n",
       "  </tbody>\n",
       "</table>\n",
       "<p>5 rows × 114 columns</p>\n",
       "</div>"
      ],
      "text/plain": [
       "                       track_id                        track_name album  \\\n",
       "1517578  3vjs2MDHoF9xhylNg6Y9un            Chateau (Feel Alright)   NaN   \n",
       "1946642  2ctc9nwRgXeeIFaFWTRrRl                 No Te Pido Flores   NaN   \n",
       "2029484  02Fzn9E9et1LADcuSeSwxR  Ya Se Que Te Acordaras...(De Mi)   NaN   \n",
       "2029415  4oL4ShpnvaF8dJrYgcsbPM                          Fighting   NaN   \n",
       "2072769  3MldzywZOH4Uci6bq9noyJ                      What You Got   NaN   \n",
       "\n",
       "        album_id    artist_name artist_ids  track_number  disc_number  \\\n",
       "1517578      NaN            Djo        NaN           NaN          NaN   \n",
       "1946642      NaN       Fanny Lu        NaN           NaN          NaN   \n",
       "2029484      NaN      Los Brios        NaN           NaN          NaN   \n",
       "2029415      NaN     Yellowcard        NaN           NaN          NaN   \n",
       "2072769      NaN  Colby O'Donis        NaN           NaN          NaN   \n",
       "\n",
       "        explicit  danceability  ...  genre_swedish  genre_tango  genre_techno  \\\n",
       "1517578      NaN         0.641  ...              0            0             0   \n",
       "1946642      NaN         0.728  ...              0            0             0   \n",
       "2029484      NaN         0.654  ...              0            0             0   \n",
       "2029415      NaN         0.414  ...              0            0             0   \n",
       "2072769      NaN         0.775  ...              0            0             0   \n",
       "\n",
       "         genre_trance  genre_trip-hop  mode_0  mode_1  loudness_scaled  \\\n",
       "1517578             0               0       0       1        -0.195453   \n",
       "1946642             0               0       0       1         0.752046   \n",
       "2029484             0               0       0       1         0.328873   \n",
       "2029415             0               0       0       1         0.880884   \n",
       "2072769             0               0       0       1         0.572251   \n",
       "\n",
       "         scaled_tempo                                    combined  \n",
       "1517578      0.539511                  Djo Chateau (Feel Alright)  \n",
       "1946642      0.415892                  Fanny Lu No Te Pido Flores  \n",
       "2029484      0.391559  Los Brios Ya Se Que Te Acordaras...(De Mi)  \n",
       "2029415      0.719920                         Yellowcard Fighting  \n",
       "2072769      0.479909                  Colby O'Donis What You Got  \n",
       "\n",
       "[5 rows x 114 columns]"
      ]
     },
     "execution_count": 148,
     "metadata": {},
     "output_type": "execute_result"
    }
   ],
   "source": [
    "df.loc[nn_200_indices.tolist()[0]].head()"
   ]
  },
  {
   "cell_type": "code",
   "execution_count": null,
   "id": "616e3037",
   "metadata": {},
   "outputs": [],
   "source": [
    "class RankingSongs:\n",
    "    def __init__(self, songs_df):\n",
    "        self.songs_df = songs_df\n",
    "\n",
    "    def filter_by_popularity(self):\n",
    "        # Logic to filter songs by popularity\n",
    "        pass\n",
    "\n",
    "    def mark_artist_as_popular(self, artist_id):\n",
    "        # Logic to mark an artist as popular\n",
    "        pass\n",
    "\n",
    "    def remove_duplicate_artists(self):\n",
    "        # Logic to remove songs from duplicate artists\n",
    "        pass\n",
    "\n",
    "\n",
    "class Playlist:\n",
    "    def __init__(self):\n",
    "        self.songs = []\n",
    "\n",
    "    def add_songs(self, songs):\n",
    "        # Logic to add songs to the playlist\n",
    "        self.songs.extend(songs)\n",
    "\n",
    "    def get_top_songs(self, count=20):\n",
    "        # Logic to return top N songs, default is 20\n",
    "        return self.songs[:count]\n",
    "\n",
    "\n",
    "# Example workflow\n",
    "model_path = \"path/to/your/model\"\n",
    "song_query = \"Your input song\"\n",
    "\n",
    "# Load the model\n",
    "loader = LoadModel(model_path)\n",
    "model = loader.model\n",
    "\n",
    "# Get songs\n",
    "retriever = RetrieveSongs(model, data_df)\n",
    "song_match = retriever.get_song_match(song_query)\n",
    "nearest_neighbors = retriever.get_nearest_neighbors_ids(song_match)\n",
    "songs_of_same_genre = retriever.lookup_by_genre(nearest_neighbors, genre=\"genre_of_input_song\")\n",
    "\n",
    "# Rank the songs\n",
    "ranks = RankingSongs(songs_of_same_genre)\n",
    "ranks.filter_by_popularity()\n",
    "ranks.remove_duplicate_artists()\n",
    "\n",
    "# Create playlist\n",
    "playlist = Playlist()\n",
    "playlist.add_songs(songs_of_same_genre)\n",
    "top_songs = playlist.get_top_songs()\n"
   ]
  }
 ],
 "metadata": {
  "kernelspec": {
   "display_name": "melodiik",
   "language": "python",
   "name": "melodiik"
  },
  "language_info": {
   "codemirror_mode": {
    "name": "ipython",
    "version": 3
   },
   "file_extension": ".py",
   "mimetype": "text/x-python",
   "name": "python",
   "nbconvert_exporter": "python",
   "pygments_lexer": "ipython3",
   "version": "3.10.12"
  }
 },
 "nbformat": 4,
 "nbformat_minor": 5
}
